{
 "cells": [
  {
   "cell_type": "code",
   "execution_count": 3,
   "metadata": {},
   "outputs": [
    {
     "ename": "ImportError",
     "evalue": "cannot import name 'USE_RTLD_GLOBAL_WITH_LIBTORCH' from 'torch._utils_internal' (/Users/oliverzhu/miniconda3/lib/python3.7/site-packages/torch/_utils_internal.py)",
     "output_type": "error",
     "traceback": [
      "\u001b[0;31m---------------------------------------------------------------------------\u001b[0m",
      "\u001b[0;31mImportError\u001b[0m                               Traceback (most recent call last)",
      "\u001b[0;32m<ipython-input-3-51f04748dda9>\u001b[0m in \u001b[0;36m<module>\u001b[0;34m\u001b[0m\n\u001b[0;32m----> 1\u001b[0;31m \u001b[0;32mimport\u001b[0m \u001b[0mtorch\u001b[0m\u001b[0;34m.\u001b[0m\u001b[0mnn\u001b[0m \u001b[0;32mas\u001b[0m \u001b[0mnn\u001b[0m\u001b[0;34m\u001b[0m\u001b[0m\n\u001b[0m",
      "\u001b[0;32m~/miniconda3/lib/python3.7/site-packages/torch/__init__.py\u001b[0m in \u001b[0;36m<module>\u001b[0;34m\u001b[0m\n\u001b[1;32m     20\u001b[0m \u001b[0;34m\u001b[0m\u001b[0m\n\u001b[1;32m     21\u001b[0m \u001b[0;32mfrom\u001b[0m \u001b[0;34m.\u001b[0m\u001b[0m_utils\u001b[0m \u001b[0;32mimport\u001b[0m \u001b[0m_import_dotted_name\u001b[0m\u001b[0;34m\u001b[0m\u001b[0m\n\u001b[0;32m---> 22\u001b[0;31m \u001b[0;32mfrom\u001b[0m \u001b[0;34m.\u001b[0m\u001b[0m_utils_internal\u001b[0m \u001b[0;32mimport\u001b[0m \u001b[0mget_file_path\u001b[0m\u001b[0;34m,\u001b[0m \u001b[0mprepare_multiprocessing_environment\u001b[0m\u001b[0;34m,\u001b[0m\u001b[0;31m \u001b[0m\u001b[0;31m\\\u001b[0m\u001b[0;34m\u001b[0m\u001b[0m\n\u001b[0m\u001b[1;32m     23\u001b[0m     \u001b[0mUSE_RTLD_GLOBAL_WITH_LIBTORCH\u001b[0m\u001b[0;34m\u001b[0m\u001b[0m\n\u001b[1;32m     24\u001b[0m \u001b[0;32mfrom\u001b[0m \u001b[0;34m.\u001b[0m\u001b[0mversion\u001b[0m \u001b[0;32mimport\u001b[0m \u001b[0m__version__\u001b[0m\u001b[0;34m\u001b[0m\u001b[0m\n",
      "\u001b[0;31mImportError\u001b[0m: cannot import name 'USE_RTLD_GLOBAL_WITH_LIBTORCH' from 'torch._utils_internal' (/Users/oliverzhu/miniconda3/lib/python3.7/site-packages/torch/_utils_internal.py)"
     ]
    }
   ],
   "source": [
    "import torch.nn as nn"
   ]
  },
  {
   "cell_type": "code",
   "execution_count": null,
   "metadata": {},
   "outputs": [],
   "source": [
    "class RGBMaskEncoderCNN(nn.Module):\n",
    "\tdef __init__(self):\n",
    "\t\tsuper(RGBMaskEncoderCNN, self).__init__()\n",
    "\n",
    "\t\tself.alexnet = models.alexnet(pretrained=True)\n",
    "\t\t# get the pre-trained weights of the first layer\n",
    "\t\tpretrained_weights = self.alexnet.features[0].weight\n",
    "\t\tnew_features = nn.Sequential(*list(self.alexnet.features.children()))\n",
    "        #here is 4 channels \n",
    "\t\tnew_features[0] = nn.Conv2d(4, 64, kernel_size=11, stride=4, padding=2)\n",
    "\n",
    "\t\t# For M-channel weight should randomly initialized with Gaussian\n",
    "\t\tnew_feaures_[0].weight.data.normal_(0, 0.001)\n",
    "\t\t# For RGB it should be copied from pretrained weights\n",
    "\t\tnew_features[0].weight.data[:, :3, :, :] = pretrained_weights\n",
    "\n",
    "\t\tself.alexnet.features = new_features\n",
    "\n",
    "\t\t\n",
    "\t\t\n",
    "\n",
    "\tdef forward(self, images):\n",
    "\t\t\"\"\"Extract Feature Vector from Input Images\"\"\"\n",
    "\t\tfeatures = self.alexnet(images)\n",
    "\t\treturn features"
   ]
  },
  {
   "cell_type": "code",
   "execution_count": null,
   "metadata": {},
   "outputs": [],
   "source": []
  }
 ],
 "metadata": {
  "kernelspec": {
   "display_name": "Python 3",
   "language": "python",
   "name": "python3"
  },
  "language_info": {
   "codemirror_mode": {
    "name": "ipython",
    "version": 3
   },
   "file_extension": ".py",
   "mimetype": "text/x-python",
   "name": "python",
   "nbconvert_exporter": "python",
   "pygments_lexer": "ipython3",
   "version": "3.7.0"
  }
 },
 "nbformat": 4,
 "nbformat_minor": 2
}
